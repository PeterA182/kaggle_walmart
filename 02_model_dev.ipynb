{
 "cells": [
  {
   "cell_type": "code",
   "execution_count": 12,
   "metadata": {},
   "outputs": [],
   "source": [
    "import os\n",
    "import gc\n",
    "import sys\n",
    "import numpy as np\n",
    "import pandas as pd\n",
    "import datetime as dt\n",
    "import matplotlib.pyplot as plt\n",
    "\n",
    "from sklearn.model_selection import train_test_split\n",
    "from sklearn.ensemble import ExtraTreesRegressor, RandomForestRegressor\n",
    "from sklearn.preprocessing import LabelEncoder\n",
    "from sklearn.model_selection import KFold\n",
    "from sklearn.neural_network import MLPRegressor\n",
    "from sklearn.metrics import mean_absolute_error\n",
    "from sklearn.feature_selection import RFE"
   ]
  },
  {
   "cell_type": "code",
   "execution_count": 2,
   "metadata": {},
   "outputs": [],
   "source": [
    "# Functions"
   ]
  },
  {
   "cell_type": "code",
   "execution_count": 8,
   "metadata": {},
   "outputs": [],
   "source": [
    "# Read in\n",
    "df_featurespace = pd.read_parquet(\"output/01_featurespace.parquet\")\n",
    "df_train = pd.read_csv(\"data/train.csv\")\n",
    "df_test = pd.read_csv(\"data/test.csv\")"
   ]
  },
  {
   "cell_type": "code",
   "execution_count": 9,
   "metadata": {},
   "outputs": [],
   "source": [
    "# Merge to train\n",
    "df_train_fs = pd.merge(\n",
    "    df_train,\n",
    "    df_featurespace,\n",
    "    how='left',\n",
    "    on=['Store', 'Date'],\n",
    "    validate='m:1'\n",
    ")\n",
    "df_test_fs = pd.merge(\n",
    "    df_test,\n",
    "    df_featurespace,\n",
    "    how='left',\n",
    "    on=['Store', 'Date'],\n",
    "    validate='m:1'\n",
    ")"
   ]
  },
  {
   "cell_type": "code",
   "execution_count": null,
   "metadata": {},
   "outputs": [],
   "source": [
    "# Split / KFold\n",
    "kf = KFold(n_splits=5)\n",
    "df_split = []\n",
    "# dataset2 = dataset.copy()\n",
    "for name, group in df_train_fs.groupby([\"Store\", \"Dept\"]):\n",
    "    group = group.reset_index(drop=True)\n",
    "    trains_x = []\n",
    "    trains_y = []\n",
    "    tests_x = []\n",
    "    tests_y = []\n",
    "    if group.shape[0] <= 5:\n",
    "        f = np.array(range(5))\n",
    "        np.random.shuffle(f)\n",
    "        group['fold'] = f[:group.shape[0]]\n",
    "        continue\n",
    "    fold = 0\n",
    "    for train_index, test_index in kf.split(group):\n",
    "        group.loc[test_index, 'fold'] = fold\n",
    "        fold += 1\n",
    "    df_split.append(group)\n",
    "\n",
    "df_split = pd.concat(df_split).reset_index(drop=True)"
   ]
  },
  {
   "cell_type": "code",
   "execution_count": null,
   "metadata": {},
   "outputs": [],
   "source": [
    "best_model = None\n",
    "error_cv = 0\n",
    "best_error = np.iinfo(np.int32).max\n",
    "for fold in range(5):\n",
    "    \n",
    "    # Split to train and test\n",
    "    dataset_train = df_split.loc[df_split['fold'] != fold]\n",
    "    dataset_test = df_split.loc[df_split['fold'] == fold]\n",
    "    train_y = dataset_train['weeklySales']\n",
    "    train_x = dataset_train.drop(columns=['weeklySales', 'fold'])\n",
    "    test_y = dataset_test['weeklySales']\n",
    "    test_x = dataset_test.drop(columns=['weeklySales', 'fold'])\n",
    "    print(\" ---- ---- ---- \")\n",
    "    print(\"Dataset train and test shapes :: current iteration\")\n",
    "    print(dataset_train.shape, dataset_test.shape)\n",
    "    \n",
    "    # Train / Test Model\n",
    "    #predicted, model = train_and_predict(train_x, train_y, test_x)\n",
    "    \n",
    "    weights = test_x['isHoliday'].replace(True, 5).replace(False, 1)\n",
    "    error = mean_absolute_error(test_y, predicted, weights)\n",
    "    error_cv += error\n",
    "    print(fold, error)\n",
    "    if error < best_error:\n",
    "        print('Find best model')\n",
    "        best_error = error\n",
    "        best_model = model\n",
    "error_cv /= 5"
   ]
  },
  {
   "cell_type": "code",
   "execution_count": null,
   "metadata": {},
   "outputs": [],
   "source": []
  },
  {
   "cell_type": "code",
   "execution_count": null,
   "metadata": {},
   "outputs": [],
   "source": []
  },
  {
   "cell_type": "code",
   "execution_count": null,
   "metadata": {},
   "outputs": [],
   "source": []
  },
  {
   "cell_type": "code",
   "execution_count": null,
   "metadata": {},
   "outputs": [],
   "source": []
  }
 ],
 "metadata": {
  "kernelspec": {
   "display_name": "Python 3",
   "language": "python",
   "name": "python3"
  },
  "language_info": {
   "codemirror_mode": {
    "name": "ipython",
    "version": 3
   },
   "file_extension": ".py",
   "mimetype": "text/x-python",
   "name": "python",
   "nbconvert_exporter": "python",
   "pygments_lexer": "ipython3",
   "version": "3.6.4"
  }
 },
 "nbformat": 4,
 "nbformat_minor": 2
}
