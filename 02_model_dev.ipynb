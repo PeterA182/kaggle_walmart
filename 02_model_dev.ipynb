{
 "cells": [
  {
   "cell_type": "code",
   "execution_count": 112,
   "metadata": {},
   "outputs": [],
   "source": [
    "import os\n",
    "import gc\n",
    "import sys\n",
    "import numpy as np\n",
    "import pandas as pd\n",
    "import datetime as dt\n",
    "import matplotlib.pyplot as plt\n",
    "\n",
    "from sklearn.neighbors import KNeighborsRegressor\n",
    "from sklearn.model_selection import train_test_split\n",
    "from sklearn.ensemble import ExtraTreesRegressor, RandomForestRegressor\n",
    "from sklearn.preprocessing import LabelEncoder\n",
    "from sklearn.model_selection import KFold\n",
    "from sklearn.neural_network import MLPRegressor\n",
    "from sklearn.metrics import mean_absolute_error, make_scorer, mean_squared_error\n",
    "from sklearn.feature_selection import RFE\n",
    "from sklearn.linear_model import Lasso, LinearRegression"
   ]
  },
  {
   "cell_type": "code",
   "execution_count": 113,
   "metadata": {},
   "outputs": [],
   "source": [
    "# Functions\n",
    "def kf_splitting(data, n_splits_):\n",
    "    kf = KFold(n_splits=n_splits_)\n",
    "    df_split = []\n",
    "    for name, group in data.groupby([\"Store\", \"Dept\"]):\n",
    "        group = group.reset_index(drop=True)\n",
    "        trains_x = []\n",
    "        trains_y = []\n",
    "        tests_x = []\n",
    "        tests_y = []\n",
    "        if group.shape[0] <= 5:\n",
    "            f = np.array(range(5))\n",
    "            np.random.shuffle(f)\n",
    "            group['fold'] = f[:group.shape[0]]\n",
    "            continue\n",
    "        fold = 0\n",
    "        for train_index, test_index in kf.split(group):\n",
    "            group.loc[test_index, 'fold'] = fold\n",
    "            fold += 1\n",
    "        df_split.append(group)\n",
    "    df_split = pd.concat(df_split).reset_index(drop=True)\n",
    "    return df_split\n",
    "\n",
    "def gridsearch_wrapper(model, grid, refit_score, skfold_count):\n",
    "        \"\"\"\n",
    "        fits a GridSearchCV classifier using refit_score for optimization\n",
    "        prints classifier performance metrics\n",
    "        \"\"\"\n",
    "        skf = StratifiedKFold(n_splits=10)\n",
    "        grid_search = GridSearchCV(rf_clf, param_grid, scoring=scorers, refit=refit_score,\n",
    "                               cv=skf, return_train_score=True, n_jobs=-1)\n",
    "        grid_search.fit(X_train.values, y_train.values)\n",
    "\n",
    "        # make the predictions\n",
    "        y_pred = grid_search.predict(X_test.values)\n",
    "\n",
    "        print('Best params for {}'.format(refit_score))\n",
    "        print(grid_search.best_params_)\n",
    "\n",
    "        # confusion matrix on the test data.\n",
    "        print('\\nConfusion matrix of Random Forest optimized for {} on the test data:'.format(\n",
    "            refit_score\n",
    "        ))\n",
    "        print(pd.DataFrame(confusion_matrix(y_test, y_pred),\n",
    "                     columns=['pred_neg', 'pred_pos'], index=['neg', 'pos']))\n",
    "        return grid_search, grid_search.best_params_"
   ]
  },
  {
   "cell_type": "code",
   "execution_count": 114,
   "metadata": {},
   "outputs": [],
   "source": [
    "# Read in\n",
    "df_featurespace = pd.read_parquet(\"output/01_featurespace.parquet\")\n",
    "df_train = pd.read_csv(\"data/train.csv\")\n",
    "df_test = pd.read_csv(\"data/test.csv\")    "
   ]
  },
  {
   "cell_type": "code",
   "execution_count": 115,
   "metadata": {},
   "outputs": [],
   "source": [
    "# Model List\n",
    "model_list = [RandomForestRegressor, ExtraTreesRegressor, Lasso, LinearRegression, KNeighborsRegressor]\n",
    "n_splits_ = 4\n",
    "scorers = {\n",
    "    'mae': make_scorer(mean_absolute_error)\n",
    "}"
   ]
  },
  {
   "cell_type": "code",
   "execution_count": 116,
   "metadata": {},
   "outputs": [],
   "source": [
    "param_grids = {\n",
    "    'RandomForestRegressor': {\n",
    "        'bootstrap': [True],\n",
    "        'criterion': ['mse'],\n",
    "        'max_features': ['auto'],\n",
    "        'max_leaf_nodes': [None],\n",
    "        'min_samples_leaf': [2, 4, 8],\n",
    "        'min_samples_split': [2, 5, 10],\n",
    "        'n_estimators': [10, 35, 45],\n",
    "        'n_jobs': [-1],\n",
    "        'oob_score': [False],\n",
    "        'random_state': [42],\n",
    "        'verbose': [0],\n",
    "        'warm_start': [False]\n",
    "    },\n",
    "    'ExtraTreesRegressor': {\n",
    "        'bootstrap': [True],\n",
    "        'criterion': ['mse'],\n",
    "        'max_features': ['auto'],\n",
    "        'max_leaf_nodes': [None],\n",
    "        'min_samples_leaf': [2, 4, 8],\n",
    "        'min_samples_split': [2, 5, 10],\n",
    "        'n_estimators': [10, 35, 45],\n",
    "        'n_jobs': [-1],\n",
    "        'oob_score': [False],\n",
    "        'random_state': [42],\n",
    "        'verbose': [0],\n",
    "        'warm_start': [False]\n",
    "    },\n",
    "    \"KNeighborsRegressor\": {\n",
    "        'n_neighbors': [10, 12, 15]\n",
    "    },\n",
    "    \"LinearRegression\": {\n",
    "        'normalize': [True],\n",
    "        'fit_intercept': [True],\n",
    "        'copy_X': [True]\n",
    "    }\n",
    "}"
   ]
  },
  {
   "cell_type": "code",
   "execution_count": 117,
   "metadata": {},
   "outputs": [],
   "source": [
    "# Merge to train\n",
    "df_train_fs = pd.merge(\n",
    "    df_train,\n",
    "    df_featurespace,\n",
    "    how='left',\n",
    "    on=['Store', 'Date'],\n",
    "    validate='m:1'\n",
    ")\n",
    "# Merge to test\n",
    "df_test_fs = pd.merge(\n",
    "    df_test,\n",
    "    df_featurespace,\n",
    "    how='left',\n",
    "    on=['Store', 'Date'],\n",
    "    validate='m:1'\n",
    ")"
   ]
  },
  {
   "cell_type": "code",
   "execution_count": 118,
   "metadata": {},
   "outputs": [],
   "source": [
    "# Split train\n",
    "df_split = kf_splitting(df_train_fs, n_splits_)"
   ]
  },
  {
   "cell_type": "code",
   "execution_count": null,
   "metadata": {},
   "outputs": [],
   "source": []
  },
  {
   "cell_type": "code",
   "execution_count": null,
   "metadata": {},
   "outputs": [],
   "source": []
  },
  {
   "cell_type": "code",
   "execution_count": null,
   "metadata": {},
   "outputs": [],
   "source": []
  },
  {
   "cell_type": "code",
   "execution_count": null,
   "metadata": {},
   "outputs": [],
   "source": []
  },
  {
   "cell_type": "code",
   "execution_count": null,
   "metadata": {},
   "outputs": [],
   "source": [
    "best_model = None\n",
    "error_cv = 0\n",
    "best_error = np.iinfo(np.int32).max\n",
    "\n",
    "for model_ in model_list:\n",
    "    \n",
    "    # Param Grid and Searcg\n",
    "    param_grid_ = param_grids.get(model_.__name__)\n",
    "    gs, gs_best_p_ = gridsearch_wrapper(model=model_, \n",
    "                                        grid=param_grid_, \n",
    "                                        refit_score='mae',\n",
    "                                        skfold_count=10)\n",
    "    results = pd.DataFrame(grid_search_clf.cv_results_)\n",
    "    \n",
    "    for fold in range(5):\n",
    "    \n",
    "        # Split to train and test\n",
    "        dataset_train = df_split.loc[df_split['fold'] != fold]\n",
    "        dataset_test = df_split.loc[df_split['fold'] == fold]\n",
    "        train_y = dataset_train['weeklySales']\n",
    "        train_x = dataset_train.drop(columns=['weeklySales', 'fold'])\n",
    "        test_y = dataset_test['weeklySales']\n",
    "        test_x = dataset_test.drop(columns=['weeklySales', 'fold'])\n",
    "        print(\" ---- ---- ---- \")\n",
    "        print(\"Dataset train and test shapes :: current iteration\")\n",
    "        print(dataset_train.shape, dataset_test.shape)\n",
    "    \n",
    "        # Train / Test Model\n",
    "        #predicted, model = train_and_predict(train_x, train_y, test_x)\n",
    "        model_.fit(train_x, train_y)\n",
    "        yhat = model_.predict(test_x)\n",
    "    \n",
    "        weights = test_x['isHoliday'].replace(True, 5).replace(False, 1)\n",
    "        error = mean_absolute_error(test_y, yhat, weights)\n",
    "        error_cv += error\n",
    "        print(fold, error)\n",
    "        if error < best_error:\n",
    "            print('Find best model')\n",
    "            best_error = error\n",
    "            best_model = model\n",
    "    error_cv /= 5"
   ]
  },
  {
   "cell_type": "code",
   "execution_count": null,
   "metadata": {},
   "outputs": [],
   "source": []
  },
  {
   "cell_type": "code",
   "execution_count": null,
   "metadata": {},
   "outputs": [],
   "source": []
  },
  {
   "cell_type": "code",
   "execution_count": null,
   "metadata": {},
   "outputs": [],
   "source": [
    "# LassoLARSCV"
   ]
  },
  {
   "cell_type": "code",
   "execution_count": null,
   "metadata": {},
   "outputs": [],
   "source": []
  }
 ],
 "metadata": {
  "kernelspec": {
   "display_name": "Python 3",
   "language": "python",
   "name": "python3"
  },
  "language_info": {
   "codemirror_mode": {
    "name": "ipython",
    "version": 3
   },
   "file_extension": ".py",
   "mimetype": "text/x-python",
   "name": "python",
   "nbconvert_exporter": "python",
   "pygments_lexer": "ipython3",
   "version": "3.6.4"
  }
 },
 "nbformat": 4,
 "nbformat_minor": 2
}
